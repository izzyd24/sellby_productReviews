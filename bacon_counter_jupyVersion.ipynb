{
 "cells": [
  {
   "cell_type": "code",
   "execution_count": 1,
   "id": "579d5144",
   "metadata": {},
   "outputs": [],
   "source": [
    "# import mrjob\n",
    "from mrjob.job import MRJob"
   ]
  },
  {
   "cell_type": "code",
   "execution_count": 2,
   "id": "d37aa8ed",
   "metadata": {},
   "outputs": [],
   "source": [
    "class Bacon_count(MRJob):\n",
    "    # create the mapper function to assign the input \n",
    "    # to key-value pairs\n",
    "    def mapper(self, _, line):\n",
    "    # use split method on each line of text\n",
    "    # breaks list of words\n",
    "       for word in line.split():\n",
    "        # convert to lowercase\n",
    "           if word.lower() == \"bacon\":\n",
    "            # if match the search for bacon string\n",
    "            # then show the key-value pair\n",
    "               yield \"bacon\", 1\n",
    "                # yield returns a generator object\n",
    "                # like a lot, but not stored locally"
   ]
  },
  {
   "cell_type": "code",
   "execution_count": 3,
   "id": "989099f4",
   "metadata": {},
   "outputs": [],
   "source": [
    "def reducer(self, key, values):\n",
    "    # self to represent insance of the class\n",
    "    # key for key-value pair in mapper\n",
    "    # values for list of values created in mapper\n",
    "\n",
    "    # then sum all of these values \n",
    "       yield key, sum(values)"
   ]
  },
  {
   "cell_type": "code",
   "execution_count": 4,
   "id": "6e472ed8",
   "metadata": {},
   "outputs": [
    {
     "name": "stderr",
     "output_type": "stream",
     "text": [
      "usage: ipykernel_launcher.py [options] [input files]\n",
      "ipykernel_launcher.py: error: unrecognized arguments: -f\n"
     ]
    },
    {
     "ename": "SystemExit",
     "evalue": "2",
     "output_type": "error",
     "traceback": [
      "An exception has occurred, use %tb to see the full traceback.\n",
      "\u001b[1;31mSystemExit\u001b[0m\u001b[1;31m:\u001b[0m 2\n"
     ]
    },
    {
     "name": "stderr",
     "output_type": "stream",
     "text": [
      "C:\\Users\\dia78039\\Anaconda3\\envs\\PythonData\\lib\\site-packages\\IPython\\core\\interactiveshell.py:3452: UserWarning: To exit: use 'exit', 'quit', or Ctrl-D.\n",
      "  warn(\"To exit: use 'exit', 'quit', or Ctrl-D.\", stacklevel=1)\n"
     ]
    }
   ],
   "source": [
    "# run the program\n",
    "if __name__ == \"__main__\":\n",
    "   Bacon_count.run()"
   ]
  },
  {
   "cell_type": "code",
   "execution_count": null,
   "id": "5cd0b72f",
   "metadata": {},
   "outputs": [],
   "source": []
  }
 ],
 "metadata": {
  "kernelspec": {
   "display_name": "PythonData",
   "language": "python",
   "name": "pythondata"
  },
  "language_info": {
   "codemirror_mode": {
    "name": "ipython",
    "version": 3
   },
   "file_extension": ".py",
   "mimetype": "text/x-python",
   "name": "python",
   "nbconvert_exporter": "python",
   "pygments_lexer": "ipython3",
   "version": "3.7.11"
  }
 },
 "nbformat": 4,
 "nbformat_minor": 5
}
